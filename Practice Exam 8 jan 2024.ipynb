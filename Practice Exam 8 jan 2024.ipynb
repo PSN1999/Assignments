{
 "cells": [
  {
   "cell_type": "markdown",
   "id": "acd89b5f",
   "metadata": {},
   "source": [
    "### PRACTICE EXAM"
   ]
  },
  {
   "cell_type": "raw",
   "id": "8ef7930b",
   "metadata": {},
   "source": [
    "1.Given an integer, n, perform the following conditional actions:\n",
    "•If  n is odd, print Weird \n",
    "•If n is even and in the inclusive range of 2 to 5, print Not Weird\n",
    "•If n is even and in the inclusive range of 6 to 20, print Weird\n",
    "•If n is even greater than 20, print Not Weird\n",
    "n = 3 "
   ]
  },
  {
   "cell_type": "code",
   "execution_count": 1,
   "id": "9df3517b",
   "metadata": {
    "scrolled": false
   },
   "outputs": [
    {
     "name": "stdout",
     "output_type": "stream",
     "text": [
      "Enter an integer:3\n",
      "weird\n"
     ]
    }
   ],
   "source": [
    "i = int(input(\"Enter an integer:\"))\n",
    "    \n",
    "if (i%2) == 1:\n",
    "        print(\"weird\")\n",
    "else:\n",
    "    if (2 <= i <= 5):\n",
    "        print(\"Not Weird\")\n",
    "    elif (6 <= i <= 20):\n",
    "        print(\"Weird\")\n",
    "    elif (i > 20):\n",
    "        print(\"Not Weird\")"
   ]
  },
  {
   "cell_type": "raw",
   "id": "bd75595d",
   "metadata": {},
   "source": [
    "2.The list of non-negative integers that are less than n = 3 is [ 0, 1, 2 ]. Print the square of each number on a separate line"
   ]
  },
  {
   "cell_type": "code",
   "execution_count": 2,
   "id": "a4156432",
   "metadata": {},
   "outputs": [
    {
     "name": "stdout",
     "output_type": "stream",
     "text": [
      "Square of 0 = 0\n",
      "Square of 1 = 1\n",
      "Square of 2 = 4\n"
     ]
    }
   ],
   "source": [
    "def get_square(num):\n",
    "    return num*num\n",
    "for i in {0, 1, 2}:\n",
    "    result = get_square(i)\n",
    "    print(\"Square of\",i,\"=\",result)"
   ]
  },
  {
   "cell_type": "raw",
   "id": "709912fb",
   "metadata": {},
   "source": [
    "5.The provided code stub read in a dictionary containing key/value pairs of name:[Marks] for a list of students. Print the average of the marks array for the student name provided, showing 2 places after the decimal\n",
    "\n",
    "marks key: value pairs are\n",
    "‘alpha’:[20, 30, 40]\n",
    "‘beta’:[30, 50, 70]"
   ]
  },
  {
   "cell_type": "code",
   "execution_count": 5,
   "id": "0342acaf",
   "metadata": {},
   "outputs": [
    {
     "name": "stdout",
     "output_type": "stream",
     "text": [
      "Enter student name: alpha\n",
      "Average marks for alpha: 30.00\n"
     ]
    }
   ],
   "source": [
    "marks = {'alpha': [20, 30, 40], 'beta': [30, 50, 70]}\n",
    "name = input(\"Enter student name: \")\n",
    "if name in marks:\n",
    "    avg_marks = sum(marks[name]) / len(marks[name])\n",
    "    print(f\"Average marks for {name}: {avg_marks:.2f}\")\n",
    "else:\n",
    "    print(f\"{name} not found in marks dictionary.\")"
   ]
  },
  {
   "cell_type": "raw",
   "id": "19185995",
   "metadata": {},
   "source": [
    "4.Given the participants’ score sheet for your University Sports Day, you are required to find the runner-up score. You are given n scores. Store them in a list and find the score of the runner-up\n",
    "Given list is [2, 3, 6, 6, 5]"
   ]
  },
  {
   "cell_type": "code",
   "execution_count": 9,
   "id": "218f3857",
   "metadata": {
    "scrolled": true
   },
   "outputs": [
    {
     "name": "stdout",
     "output_type": "stream",
     "text": [
      "The runner-up score is 5\n"
     ]
    }
   ],
   "source": [
    "scores = [2, 3, 6, 6, 5]\n",
    "scores.sort(reverse=True)\n",
    "runner_up_score = scores[2]\n",
    "print(f\"The runner-up score is {runner_up_score}\")"
   ]
  },
  {
   "cell_type": "raw",
   "id": "dc7e8650",
   "metadata": {},
   "source": [
    "6.You are given a string and your task is to swap cases. In other words, convert all lowercase letters to uppercase letters and vice versa."
   ]
  },
  {
   "cell_type": "code",
   "execution_count": 11,
   "id": "093612f3",
   "metadata": {},
   "outputs": [
    {
     "name": "stdout",
     "output_type": "stream",
     "text": [
      "THERE IS RAIN TODAY\n",
      "there is rain today\n"
     ]
    }
   ],
   "source": [
    "s = \"THEre is Rain TODay\"\n",
    "print(s.upper())   \n",
    "\n",
    "print(s.lower())  "
   ]
  },
  {
   "cell_type": "raw",
   "id": "e24ecbcd",
   "metadata": {},
   "source": [
    "8.In this challenge, the user enters a string and a substring. You have to print the number of times that the substring occurs in the given string. String traversal will take place from left to right, not from right to left"
   ]
  },
  {
   "cell_type": "code",
   "execution_count": 1,
   "id": "205ece31",
   "metadata": {
    "scrolled": true
   },
   "outputs": [
    {
     "name": "stdout",
     "output_type": "stream",
     "text": [
      "Enter a string: I am happy today.\n",
      "Enter a substring: a\n",
      "3\n"
     ]
    }
   ],
   "source": [
    "S1 = input(\"Enter a string: \")\n",
    "S2 = input(\"Enter a substring: \")\n",
    "\n",
    "count = S1.count(S2)\n",
    "print(count)"
   ]
  },
  {
   "cell_type": "raw",
   "id": "95800506",
   "metadata": {},
   "source": [
    "9.You are given a string S.\n",
    "Your task is to find out if the string S contains: alphanumeric characters, alphabetical characters, digits, lowercase and uppercase characters."
   ]
  },
  {
   "cell_type": "code",
   "execution_count": 5,
   "id": "7ede36b7",
   "metadata": {},
   "outputs": [
    {
     "name": "stdout",
     "output_type": "stream",
     "text": [
      "Enter a string:HELLO\n",
      "True\n",
      "True\n",
      "False\n",
      "False\n",
      "True\n"
     ]
    }
   ],
   "source": [
    "a =input(\"Enter a string:\")\n",
    "print(a.isalnum())\n",
    "print(a.isalpha())\n",
    "print(a.isdigit())\n",
    "print(a.islower())\n",
    "print(a.isupper())"
   ]
  },
  {
   "cell_type": "raw",
   "id": "510809bf",
   "metadata": {},
   "source": [
    "3.You are given three integers x, y and z representing the dimensions of a cuboid along with an integer n. Print a list of all possible coordinates given by (i, j, k) on a 3D grid where the sum of i + j + k is not equal to n. Here, 0 <= i <= x; 0 <= j <= y; 0 <= k <= z. Please use list comprehensions rather than multiple loops, as a learning exercise."
   ]
  },
  {
   "cell_type": "code",
   "execution_count": 1,
   "id": "d101d9ab",
   "metadata": {
    "scrolled": true
   },
   "outputs": [
    {
     "name": "stdout",
     "output_type": "stream",
     "text": [
      "3\n",
      "4\n",
      "6\n",
      "9\n",
      "[[0, 0, 0], [0, 0, 1], [0, 0, 2], [0, 0, 3], [0, 0, 4], [0, 0, 5], [0, 0, 6], [0, 1, 0], [0, 1, 1], [0, 1, 2], [0, 1, 3], [0, 1, 4], [0, 1, 5], [0, 1, 6], [0, 2, 0], [0, 2, 1], [0, 2, 2], [0, 2, 3], [0, 2, 4], [0, 2, 5], [0, 2, 6], [0, 3, 0], [0, 3, 1], [0, 3, 2], [0, 3, 3], [0, 3, 4], [0, 3, 5], [0, 4, 0], [0, 4, 1], [0, 4, 2], [0, 4, 3], [0, 4, 4], [0, 4, 6], [1, 0, 0], [1, 0, 1], [1, 0, 2], [1, 0, 3], [1, 0, 4], [1, 0, 5], [1, 0, 6], [1, 1, 0], [1, 1, 1], [1, 1, 2], [1, 1, 3], [1, 1, 4], [1, 1, 5], [1, 1, 6], [1, 2, 0], [1, 2, 1], [1, 2, 2], [1, 2, 3], [1, 2, 4], [1, 2, 5], [1, 3, 0], [1, 3, 1], [1, 3, 2], [1, 3, 3], [1, 3, 4], [1, 3, 6], [1, 4, 0], [1, 4, 1], [1, 4, 2], [1, 4, 3], [1, 4, 5], [1, 4, 6], [2, 0, 0], [2, 0, 1], [2, 0, 2], [2, 0, 3], [2, 0, 4], [2, 0, 5], [2, 0, 6], [2, 1, 0], [2, 1, 1], [2, 1, 2], [2, 1, 3], [2, 1, 4], [2, 1, 5], [2, 2, 0], [2, 2, 1], [2, 2, 2], [2, 2, 3], [2, 2, 4], [2, 2, 6], [2, 3, 0], [2, 3, 1], [2, 3, 2], [2, 3, 3], [2, 3, 5], [2, 3, 6], [2, 4, 0], [2, 4, 1], [2, 4, 2], [2, 4, 4], [2, 4, 5], [2, 4, 6], [3, 0, 0], [3, 0, 1], [3, 0, 2], [3, 0, 3], [3, 0, 4], [3, 0, 5], [3, 1, 0], [3, 1, 1], [3, 1, 2], [3, 1, 3], [3, 1, 4], [3, 1, 6], [3, 2, 0], [3, 2, 1], [3, 2, 2], [3, 2, 3], [3, 2, 5], [3, 2, 6], [3, 3, 0], [3, 3, 1], [3, 3, 2], [3, 3, 4], [3, 3, 5], [3, 3, 6], [3, 4, 0], [3, 4, 1], [3, 4, 3], [3, 4, 4], [3, 4, 5], [3, 4, 6]]\n"
     ]
    }
   ],
   "source": [
    "if __name__ == '__main__':\n",
    "    x = int(input())\n",
    "    y = int(input())\n",
    "    z = int(input())\n",
    "    n = int(input())\n",
    "    \n",
    "    l = [[i,j,k] for i in range(x+1) for j in range(y+1) for k in range(z+1) if i+j+k != n]\n",
    "    print(l)"
   ]
  },
  {
   "cell_type": "raw",
   "id": "ce78a030",
   "metadata": {},
   "source": [
    "7.You are given a string. Split the string on a ” ” (space) delimiter and join using a – hyphen."
   ]
  },
  {
   "cell_type": "code",
   "execution_count": 2,
   "id": "a971dd85",
   "metadata": {},
   "outputs": [
    {
     "name": "stdout",
     "output_type": "stream",
     "text": [
      "This-is-a-string\n"
     ]
    }
   ],
   "source": [
    "s = \"This is a string\"\n",
    "words = s.split(\" \")\n",
    "result = \"-\".join(words)\n",
    "print(result)"
   ]
  },
  {
   "cell_type": "raw",
   "id": "fcf1fa3e",
   "metadata": {},
   "source": [
    "10.Write a Python program to check that a string contains only a certain set of characters (in this case a-z, A-Z and 0-9)"
   ]
  },
  {
   "cell_type": "code",
   "execution_count": 10,
   "id": "309453f8",
   "metadata": {},
   "outputs": [
    {
     "name": "stdout",
     "output_type": "stream",
     "text": [
      "Enter: hello@23\n",
      "False\n"
     ]
    }
   ],
   "source": [
    "import re\n",
    "S = input(\"Enter: \")\n",
    "result = re.sub(\"[A-Za-z0-9]\", '', S)\n",
    "if len(result) == 0:\n",
    "    print(\"True\")\n",
    "else:\n",
    "    print(\"False\")"
   ]
  },
  {
   "cell_type": "raw",
   "id": "886ab07f",
   "metadata": {},
   "source": [
    "11.Write a Python program that matches a string that has an a followed by zero or more b's"
   ]
  },
  {
   "cell_type": "code",
   "execution_count": 20,
   "id": "0cfde857",
   "metadata": {},
   "outputs": [
    {
     "name": "stdout",
     "output_type": "stream",
     "text": [
      "Enter a string: abbb\n",
      "True\n"
     ]
    }
   ],
   "source": [
    "import re\n",
    "Str = input(\"Enter a string: \")\n",
    "x = re.compile(\"^a(b*)$\")\n",
    "match = x.match(Str)\n",
    "if match:\n",
    "    print(\"True\")\n",
    "else:\n",
    "    print(\"False\")"
   ]
  },
  {
   "cell_type": "raw",
   "id": "b2998079",
   "metadata": {},
   "source": [
    "12.Write a Python program that matches a string that has an a followed by one or more b's"
   ]
  },
  {
   "cell_type": "code",
   "execution_count": 22,
   "id": "48b7f30b",
   "metadata": {},
   "outputs": [
    {
     "name": "stdout",
     "output_type": "stream",
     "text": [
      "Enter a string: a ballon\n",
      "True\n"
     ]
    }
   ],
   "source": [
    "Str = input(\"Enter a string: \")\n",
    "x = re.compile(\"^a b+\")\n",
    "match = x.match(Str)\n",
    "if match:\n",
    "    print(\"True\")\n",
    "else:\n",
    "    print(\"False\")"
   ]
  },
  {
   "cell_type": "raw",
   "id": "3d44d8a0",
   "metadata": {},
   "source": [
    "13.Write a Python program that matches a string that has an a followed by three 'b'"
   ]
  },
  {
   "cell_type": "code",
   "execution_count": 23,
   "id": "630cb4ee",
   "metadata": {},
   "outputs": [
    {
     "name": "stdout",
     "output_type": "stream",
     "text": [
      "Enter a string: ab ab\n",
      "False\n"
     ]
    }
   ],
   "source": [
    "Str = input(\"Enter a string: \")\n",
    "x = re.compile(\"ab{3}\")\n",
    "match = x.match(Str)\n",
    "if match:\n",
    "    print(\"True\")\n",
    "else:\n",
    "    print(\"False\")"
   ]
  },
  {
   "cell_type": "raw",
   "id": "4711adcf",
   "metadata": {},
   "source": [
    "14.Write a Python program that matches a string that has an a followed by two to three 'b'"
   ]
  },
  {
   "cell_type": "code",
   "execution_count": 24,
   "id": "953106ee",
   "metadata": {},
   "outputs": [
    {
     "name": "stdout",
     "output_type": "stream",
     "text": [
      "Enter a string: abbbbbbb\n",
      "True\n"
     ]
    }
   ],
   "source": [
    "Str = input(\"Enter a string: \")\n",
    "x = re.compile(\"ab{2,3}\")\n",
    "match = x.match(Str)\n",
    "if match:\n",
    "    print(\"True\")\n",
    "else:\n",
    "    print(\"False\")"
   ]
  },
  {
   "cell_type": "raw",
   "id": "7a3cf3bd",
   "metadata": {},
   "source": [
    "15.Write a Python program to find sequences of lowercase letters joined with a underscore."
   ]
  },
  {
   "cell_type": "code",
   "execution_count": 32,
   "id": "c933b9d7",
   "metadata": {},
   "outputs": [
    {
     "name": "stdout",
     "output_type": "stream",
     "text": [
      "Enter a string: abb\n",
      "No match\n"
     ]
    }
   ],
   "source": [
    "string = input(\"Enter a string: \")\n",
    "import re\n",
    "pattern = re.compile(\"^[a-z]+_[a-z]+$\")\n",
    "match = pattern.match(string)\n",
    "if match:\n",
    "    print(\"Found a match!\")\n",
    "else:\n",
    "    print(\"No match\")"
   ]
  },
  {
   "cell_type": "raw",
   "id": "30944509",
   "metadata": {},
   "source": [
    "16.Write a Python program to find the sequences of one upper case letter followed by lower case letters."
   ]
  },
  {
   "cell_type": "code",
   "execution_count": 33,
   "id": "030c49d5",
   "metadata": {},
   "outputs": [
    {
     "name": "stdout",
     "output_type": "stream",
     "text": [
      "Enter a string:abvjhgu\n",
      "Not matched!\n"
     ]
    }
   ],
   "source": [
    "string = input(\"Enter a string:\")\n",
    "patterns = '[A-Z]+[a-z]+$'\n",
    "if re.search(patterns, text):\n",
    "    print('Found a match!')\n",
    "else:\n",
    "    print('Not matched!')"
   ]
  },
  {
   "cell_type": "raw",
   "id": "85cc2c07",
   "metadata": {},
   "source": [
    "17.Write a Python program that matches a string that has an 'a' followed by anything, ending in 'b'."
   ]
  },
  {
   "cell_type": "code",
   "execution_count": 2,
   "id": "dc41efc5",
   "metadata": {},
   "outputs": [
    {
     "name": "stdout",
     "output_type": "stream",
     "text": [
      "Enter a string: aggusb\n",
      "Found a match!\n"
     ]
    }
   ],
   "source": [
    "string = input(\"Enter a string: \")\n",
    "import re\n",
    "pattern = re.compile(\"a.*b$\")\n",
    "match = pattern.match(string)\n",
    "if match:\n",
    "    print(\"Found a match!\")\n",
    "else:\n",
    "    print(\"No match\")"
   ]
  },
  {
   "cell_type": "raw",
   "id": "5428e667",
   "metadata": {},
   "source": [
    "18. Write a Python program that matches a word at the beginning of a string."
   ]
  },
  {
   "cell_type": "code",
   "execution_count": 4,
   "id": "f8150f76",
   "metadata": {},
   "outputs": [
    {
     "name": "stdout",
     "output_type": "stream",
     "text": [
      "Enter a string: Hello\n",
      "Found a match!\n"
     ]
    }
   ],
   "source": [
    "string = input(\"Enter a string: \")\n",
    "import reH\n",
    "pattern = re.compile(r\"^\\w+\")\n",
    "match = pattern.match(string)\n",
    "if match:\n",
    "    print(\"Found a match!\")\n",
    "else:\n",
    "    print(\"No match\")"
   ]
  },
  {
   "cell_type": "raw",
   "id": "718cc92c",
   "metadata": {},
   "source": [
    "19.Write a Python program that matches a word at the end of string, with optional punctuation."
   ]
  },
  {
   "cell_type": "code",
   "execution_count": 9,
   "id": "0ecb287f",
   "metadata": {},
   "outputs": [
    {
     "name": "stdout",
     "output_type": "stream",
     "text": [
      "Found a match!\n"
     ]
    }
   ],
   "source": [
    "def text_match(text):\n",
    "    patterns = r\"\\w+[,.?!]?$\"\n",
    "    if re.search(patterns,  text):\n",
    "        return 'Found a match!'\n",
    "    else:\n",
    "        return('Not matched!')\n",
    "print(text_match(\"Hello world!\"))"
   ]
  },
  {
   "cell_type": "raw",
   "id": "a9e107fe",
   "metadata": {},
   "source": [
    "20.Write a Python program that matches a word containing 'z', not at the start or end of the word."
   ]
  },
  {
   "cell_type": "code",
   "execution_count": 15,
   "id": "81772a87",
   "metadata": {},
   "outputs": [
    {
     "name": "stdout",
     "output_type": "stream",
     "text": [
      "['z']\n",
      "Yes, there is a match\n"
     ]
    }
   ],
   "source": [
    "txt = \"Freezing\"\n",
    "x = re.findall(r\"\\Bz\",txt)\n",
    "print(x)\n",
    "\n",
    "if x:\n",
    "    print(\"Yes, there is a match\")\n",
    "else:\n",
    "    print(\"No match\")"
   ]
  },
  {
   "cell_type": "raw",
   "id": "72311caf",
   "metadata": {},
   "source": [
    "21. Write a Python program where a string will start with a specific number."
   ]
  },
  {
   "cell_type": "code",
   "execution_count": 16,
   "id": "60c3d427",
   "metadata": {},
   "outputs": [
    {
     "name": "stdout",
     "output_type": "stream",
     "text": [
      "True\n"
     ]
    }
   ],
   "source": [
    "string = \"27 is multiple of 3.\"\n",
    "f_char = string[0]\n",
    "print(f_char.isdigit())"
   ]
  },
  {
   "cell_type": "raw",
   "id": "a3d17752",
   "metadata": {},
   "source": [
    "22.Write a Python program to check for a number at the end of a string."
   ]
  },
  {
   "cell_type": "code",
   "execution_count": 18,
   "id": "301ba0d7",
   "metadata": {},
   "outputs": [
    {
     "name": "stdout",
     "output_type": "stream",
     "text": [
      "True\n"
     ]
    }
   ],
   "source": [
    "string = \"27 is multiple of 3\"\n",
    "f_char = string[-1]\n",
    "print(f_char.isdigit())"
   ]
  },
  {
   "cell_type": "raw",
   "id": "caefaf49",
   "metadata": {},
   "source": [
    "23.Write a Python program to search the numbers (0-9) of length between 1 to 3 in a given string."
   ]
  },
  {
   "cell_type": "code",
   "execution_count": 19,
   "id": "f8081717",
   "metadata": {},
   "outputs": [
    {
     "data": {
      "text/plain": [
       "['2', '1', '23']"
      ]
     },
     "execution_count": 19,
     "metadata": {},
     "output_type": "execute_result"
    }
   ],
   "source": [
    "txt = \"2 times before 1:23 AM\"\n",
    "x = re.findall(r'\\b\\d{1,3}\\b',txt)\n",
    "x"
   ]
  },
  {
   "cell_type": "raw",
   "id": "0352fc45",
   "metadata": {},
   "source": [
    "24.Write a Python program to search some literals strings in a string. Go to the editor Sample text : 'The quick brown fox jumps over the lazy dog.' Searched words : 'fox', 'dog', 'horse'"
   ]
  },
  {
   "cell_type": "code",
   "execution_count": 21,
   "id": "e191cca7",
   "metadata": {},
   "outputs": [
    {
     "name": "stdout",
     "output_type": "stream",
     "text": [
      "Matched!\n",
      "Matched!\n",
      "Not Matched!\n"
     ]
    }
   ],
   "source": [
    "text = 'The quick brown fox jumps over the lazy dog.'\n",
    "patterns = ['fox', 'dog', 'horse']\n",
    "for pattern in patterns:\n",
    "    if re.search(pattern, text):\n",
    "        print('Matched!')\n",
    "    else:\n",
    "        print('Not Matched!')"
   ]
  },
  {
   "cell_type": "raw",
   "id": "3e021958",
   "metadata": {},
   "source": [
    "25.Write a Python program to search a literals string in a string and also find the location within the original string where the pattern occurs\n",
    "Sample text : 'The quick brown fox jumps over the lazy dog.' Searched words : 'fox'"
   ]
  },
  {
   "cell_type": "code",
   "execution_count": 22,
   "id": "9ac45f4d",
   "metadata": {},
   "outputs": [
    {
     "name": "stdout",
     "output_type": "stream",
     "text": [
      "<re.Match object; span=(16, 19), match='fox'>\n",
      "First location of pattern is 16\n"
     ]
    }
   ],
   "source": [
    "string = \"The quick brown fox jumps over the lazy dog.\"\n",
    "x = re.search(\"fox\",string)\n",
    "print(x)\n",
    "if x:\n",
    "    print('First location of pattern is',x.start())\n",
    "else:\n",
    "    print(\"No match\")"
   ]
  },
  {
   "cell_type": "raw",
   "id": "bec59386",
   "metadata": {},
   "source": [
    "26.Write a Python program to find the substrings within a string.\n",
    "Sample text :\n",
    "'Python exercises, PHP exercises, C# exercises'\n",
    "Pattern :\n",
    "'exercises'\n",
    "Note: There are two instances of exercises in the input string"
   ]
  },
  {
   "cell_type": "code",
   "execution_count": 24,
   "id": "e8f126f8",
   "metadata": {
    "scrolled": true
   },
   "outputs": [
    {
     "name": "stdout",
     "output_type": "stream",
     "text": [
      "exercises exercises exercises "
     ]
    }
   ],
   "source": [
    "text = 'Python exercises, PHP exercises, C# exercises'\n",
    "pattern = 'exercises'\n",
    "\n",
    "for match in re.findall(pattern, text):\n",
    "    print(match, end=\" \")"
   ]
  },
  {
   "cell_type": "raw",
   "id": "daffcd58",
   "metadata": {},
   "source": [
    "27. Write a Python program to find the occurrence and position of the substrings within a string"
   ]
  },
  {
   "cell_type": "code",
   "execution_count": 25,
   "id": "3f2237b6",
   "metadata": {},
   "outputs": [
    {
     "name": "stdout",
     "output_type": "stream",
     "text": [
      "Found \"exercises\" at 7:16\n",
      "Found \"exercises\" at 22:31\n",
      "Found \"exercises\" at 36:45\n"
     ]
    }
   ],
   "source": [
    "text = 'Python exercises, PHP exercises, C# exercises'\n",
    "pattern = 'exercises'\n",
    "\n",
    "for match in re.finditer(pattern, text):\n",
    "    print(f'Found \"{match.group()}\" at {match.start()}:{match.end()}')"
   ]
  },
  {
   "cell_type": "raw",
   "id": "fc54cfc8",
   "metadata": {},
   "source": [
    "28. Write a Python program to replace whitespaces with an underscore and vice versa."
   ]
  },
  {
   "cell_type": "code",
   "execution_count": 26,
   "id": "855bb668",
   "metadata": {},
   "outputs": [
    {
     "name": "stdout",
     "output_type": "stream",
     "text": [
      "Python_exercises\n",
      "Python exercises\n"
     ]
    }
   ],
   "source": [
    "text = 'Python exercises'\n",
    "text = text.replace(' ', '_')\n",
    "print(text)\n",
    "\n",
    "text1 = text.replace('_', ' ')\n",
    "print(text1)"
   ]
  },
  {
   "cell_type": "raw",
   "id": "ff3de74e",
   "metadata": {},
   "source": [
    "29. \n",
    "Write a Python program to extract year, month and date from a an url."
   ]
  },
  {
   "cell_type": "code",
   "execution_count": 38,
   "id": "18bae657",
   "metadata": {},
   "outputs": [
    {
     "name": "stdout",
     "output_type": "stream",
     "text": [
      "The year, month, and date extracted from the URL are: [('2016', '09', '02')]\n"
     ]
    }
   ],
   "source": [
    "def date(url):\n",
    "    return re.findall(r'/(\\d{4})/(\\d{1,2})/(\\d{1,2})/', url)\n",
    "\n",
    "url = \"https://www.washingtonpost.com/news/football-insider/wp/2016/09/02/odell-beckhams-fame-rests-on-one-stupid-little-ball-josh-norman-tells-author/\"\n",
    "print(f\"The year, month, and date extracted from the URL are: {date(url)}\")"
   ]
  },
  {
   "cell_type": "raw",
   "id": "2e36dff8",
   "metadata": {},
   "source": [
    "30.Write a Python program to convert a date of yyyy-mm-dd format to dd-mm-yyyy format."
   ]
  },
  {
   "cell_type": "code",
   "execution_count": 39,
   "id": "3afbc1db",
   "metadata": {},
   "outputs": [
    {
     "name": "stdout",
     "output_type": "stream",
     "text": [
      "The original date in yyyy-mm-dd format: 2024-01-08\n",
      "The date in dd-mm-yyyy format: 08-01-2024\n"
     ]
    }
   ],
   "source": [
    "def change_format(date):\n",
    "    return re.sub(r'(\\d{4})-(\\d{1,2})-(\\d{1,2})', r'\\3-\\2-\\1', date)\n",
    "\n",
    "date = '2024-01-08'\n",
    "print(f\"The original date in yyyy-mm-dd format: {date}\")\n",
    "print(f\"The date in dd-mm-yyyy format: {change_format(date)}\")"
   ]
  },
  {
   "cell_type": "code",
   "execution_count": null,
   "id": "ed7ffa06",
   "metadata": {},
   "outputs": [],
   "source": []
  }
 ],
 "metadata": {
  "kernelspec": {
   "display_name": "Python 3 (ipykernel)",
   "language": "python",
   "name": "python3"
  },
  "language_info": {
   "codemirror_mode": {
    "name": "ipython",
    "version": 3
   },
   "file_extension": ".py",
   "mimetype": "text/x-python",
   "name": "python",
   "nbconvert_exporter": "python",
   "pygments_lexer": "ipython3",
   "version": "3.11.4"
  }
 },
 "nbformat": 4,
 "nbformat_minor": 5
}
