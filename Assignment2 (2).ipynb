{
 "cells": [
  {
   "cell_type": "markdown",
   "id": "66ae077a",
   "metadata": {},
   "source": [
    "# ASSIGNMENT NO. 2"
   ]
  },
  {
   "cell_type": "code",
   "execution_count": null,
   "id": "c76d5a40",
   "metadata": {},
   "outputs": [],
   "source": [
    "1) What is the probability of throwing one dice and getting the number greater than 4 ?"
   ]
  },
  {
   "cell_type": "code",
   "execution_count": null,
   "id": "54dcd9b5",
   "metadata": {},
   "outputs": [],
   "source": [
    "Probability of throwing one dice,\n",
    "\n",
    "s = {1,2,3,4,5,6}\n",
    "\n",
    "probability of getting number greater than 4\n",
    "\n",
    "p(a) = 2/6\n",
    "     = 1/3 \n",
    "\n",
    "In a single throw of a die the probability of getting a number greater than 4 is 1/3."
   ]
  },
  {
   "cell_type": "code",
   "execution_count": null,
   "id": "9f1bf9de",
   "metadata": {},
   "outputs": [],
   "source": [
    "2)What is the probability of throwing two dice and getting the sum of the fallen numbers greater than 3 ?"
   ]
  },
  {
   "cell_type": "code",
   "execution_count": null,
   "id": "d80f2dba",
   "metadata": {},
   "outputs": [],
   "source": [
    "Probability of throwing two dice is,\n",
    "\n",
    "S(b) = (6*6) = 36\n",
    "\n",
    "getting sum greater than 3\n",
    "\n",
    "E(b) = (36-3) = 33 \n",
    "\n",
    "p(b) = 33/36\n",
    "     = 11/12"
   ]
  },
  {
   "cell_type": "code",
   "execution_count": null,
   "id": "4a4a3c60",
   "metadata": {},
   "outputs": [],
   "source": [
    "3)We select 7 playing cards out of 32. What is the probability that among the selected cards there are exactly three hearts ?"
   ]
  },
  {
   "cell_type": "code",
   "execution_count": null,
   "id": "c49b8965",
   "metadata": {},
   "outputs": [],
   "source": [
    "Here we use conditional probability for example\n",
    "The probability of having exactly three hearts from selected cards,\n",
    "given that 7 playing cards are selected out of 32 are.\n",
    "\n",
    "P(A|B) = P(A and B)/P(B)\n",
    "\n",
    "P(3hearts|32C7)= 8C3*24C4/32C7\n",
    "               = 56*10626/3365856\n",
    "               = 5,95,056/3365856\n",
    "               = 0.1767"
   ]
  },
  {
   "cell_type": "code",
   "execution_count": null,
   "id": "22ec6f20",
   "metadata": {},
   "outputs": [],
   "source": [
    "4)What is the probability of flipping a coin and getting the head fallen five times in a row ?"
   ]
  },
  {
   "cell_type": "code",
   "execution_count": null,
   "id": "54174617",
   "metadata": {},
   "outputs": [],
   "source": [
    "S(c) = (2*5) = 10\n",
    "getting head 5 times in row\n",
    "Event 1 : Probability of getting head 1st toss = 1/2 = 0.5\n",
    "Event 2 : Probability of getting head 2nd toss = 1/2 = 0.5\n",
    "Event 3 : Probability of getting head 3rd toss = 1/2 = 0.5\n",
    "Event 4 : Probability of getting head 4th toss = 1/2 = 0.5\n",
    "Event 5 : Probability of getting head 5th toss = 1/2 = 0.5\n",
    "\n",
    "Probability of Event 1,2,3,4,5\n",
    "p(c) = 1/2*1/2*1/2*1/2*1/2 = 1/32\n",
    "p(c) = 0.5*0.5*0.5*0.5*0.5\n",
    "p(c) = 0.031 = 3.125"
   ]
  },
  {
   "cell_type": "code",
   "execution_count": null,
   "id": "76a0cea1",
   "metadata": {},
   "outputs": [],
   "source": [
    "5)A customer wants to buy a bread and a can. There are 30 pieces of bread in the shop, including 5 from the previous day, and 20 cans with unreadable expiration date, of which one has expired. What is the probability that the customer will buy a fresh bread and a tin under warranty ?"
   ]
  },
  {
   "cell_type": "code",
   "execution_count": null,
   "id": "87590ece",
   "metadata": {},
   "outputs": [],
   "source": [
    "Given, that there are 30 pieces of bread and 5 are stale.\n",
    "So, fresh bread = (30-5) = 25\n",
    "\n",
    "Probability of selecting 25 fresh breads from 30 pieces is:\n",
    "P = 25/30 =5/6 \n",
    "\n",
    "Again, there is 1 expired can from 20 cans.\n",
    "So, cans with warranty = (20-1) = 19\n",
    "\n",
    "Probability of selecting 19 warranted cans from 20 is:\n",
    "P' = 19/20\n",
    "\n",
    "Therefore, the total probability of selecting a fresh bread and warranted tin\n",
    "= P*P'\n",
    "= (5/6*19/20)\n",
    "= 19/24"
   ]
  },
  {
   "cell_type": "code",
   "execution_count": null,
   "id": "12bb0ea8",
   "metadata": {},
   "outputs": [],
   "source": [
    "6)Abstracted secretary placed three letters randomly into three envelopes. What is the probability that at least one of the recipients gets his letter ?"
   ]
  },
  {
   "cell_type": "code",
   "execution_count": null,
   "id": "25eabb69",
   "metadata": {},
   "outputs": [],
   "source": [
    "There are 6 possibilities of the event.\n",
    "\n",
    "All 3 recipients get their respective letters (1 possibility),\n",
    "only 1 one receives his letter (3 possibilities),\n",
    "none receive their letter (2 possibilities).\n",
    "\n",
    "Probability that at least one of the recipients gets his letter \n",
    "    \n",
    "    = 1 - Probability that none receive their letter\n",
    "\n",
    "    = 1–2/6 = 4/6 = 2/3\n",
    "\n",
    "Or\n",
    "\n",
    "Probability that at least one of the recipients gets the letter\n",
    "    \n",
    "    = Probability that all receive their letters + Probability that only one receives his letter\n",
    "    \n",
    "    = 1/6+3/6 = 4/6 = 2/3"
   ]
  },
  {
   "cell_type": "code",
   "execution_count": null,
   "id": "e97744ff",
   "metadata": {},
   "outputs": [],
   "source": [
    "7)There are 10 pots exposed in the shop, 2 of which have hidden defects. The customer buys two pieces. What is the probability that at least one of them has a hidden bug ?"
   ]
  },
  {
   "cell_type": "code",
   "execution_count": null,
   "id": "b546a1d0",
   "metadata": {},
   "outputs": [],
   "source": [
    "First, let’s find the probability that both pots are defect-free:\n",
    "\n",
    "The probability that the first pot is non-defective is 8/10 (since 8 out of 10 pots are non-defective).\n",
    "Given that the first pot is non-defective, the probability that the second pot is also non-defective is 7/9 (since there are now 7 non-defective pots out of a total of 9).\n",
    "The probability of both pots being defect-free is the product of these probabilities:\n",
    "   \n",
    "   P(both pots are defect-free) = 8/10 * 7/9= 28/45\n",
    "\n",
    "Now, let’s find the probability that at least one pot has a defect:\n",
    "\n",
    "So, the probability of at least one pot having a defect is: \n",
    "   \n",
    "   P(at least one pot has a defect) = 1 - P(both pots are defect-free) = 1 - 28/45 = 17/45\n",
    "\n",
    "Therefore, the probability that at least one of the pots has a hidden bug is approximately 0.3778."
   ]
  },
  {
   "cell_type": "code",
   "execution_count": null,
   "id": "77a62d39",
   "metadata": {},
   "outputs": [],
   "source": [
    "8)What is the probability of throwing one dice seven times in a row and getting the number 6 fallen exactly 3 times ?"
   ]
  },
  {
   "cell_type": "code",
   "execution_count": null,
   "id": "d04c01ed",
   "metadata": {},
   "outputs": [],
   "source": [
    "There are 2 such possible outcomes after each throw and 2^7 = 128 possible outcomes after 7 throws. \n",
    "\n",
    "Those with a 6 showing up 3 times and no 6 turning up 4 times = 7!/(4!)( 3!) = 35.\n",
    "Probability of such an outcome\n",
    "      =P(X = k) = (n! / (k! * (n - k)!)) * p^k * (1 - p)^(n - k) \n",
    "\n",
    "where,\n",
    "P(X = k) is the probability of getting k successes in n trials.\n",
    "n is the number of trials, which is 7 in this case.\n",
    "k is the number of successes, which is 3 in this case.\n",
    "p is the probability of success on a single trial, which is 1/6 since there are six possible outcomes on a single dice roll.\n",
    "\n",
    "Probability of such an outcome = 35* [ (1/6)^3]* [ (5/6)^4] =.07814286… ~ 7.8%."
   ]
  },
  {
   "cell_type": "code",
   "execution_count": null,
   "id": "e9e3f4f9",
   "metadata": {},
   "outputs": [],
   "source": [
    "9)The test contains 10 questions, each one with available four different answers, among which just one is correct. To pass the test at least 5 questions must be answered correctly. What is the probability that completely unprepared student will pass the test ?"
   ]
  },
  {
   "cell_type": "code",
   "execution_count": null,
   "id": "9958bbc6",
   "metadata": {},
   "outputs": [],
   "source": [
    "The probability of a completely unprepared student passing the test can be calculated using the binomial distribution. The formula for the binomial distribution is:\n",
    "\n",
    "P(X=k)=nCk p^k(1-p)^n-k     \n",
    "\n",
    "where:\n",
    "\n",
    "n is the number of trials (10 questions in this case)\n",
    "k is the number of successes (answering a question correctly)\n",
    "p is the probability of success (answering a question correctly by guessing, which is 1/4)\n",
    "\n",
    "To pass the test, at least 5 questions must be answered correctly. Therefore, we need to calculate the probability of getting 5 or more questions correct. This can be done by calculating the probability of getting exactly 5, exactly 6, and so on, up to exactly 10 questions correct, and then adding these probabilities together.\n",
    "\n",
    "Using the binomial distribution formula, we can calculate these probabilities as follows:\n",
    "\n",
    "P(X≥5)=P(X=5)+P(X=6)+⋯+P(X=10)\n",
    "      =Summation(k=5 to 10)10Ck(1/4)^k(3/4)^10-k\n",
    "\n",
    "Using a calculator or software, we can find that:\n",
    "P(X≥5)≈0.0329\n",
    "Therefore, the probability of a completely unprepared student passing the test is approximately 0.0329 or 3.29%."
   ]
  },
  {
   "cell_type": "code",
   "execution_count": null,
   "id": "c9803357",
   "metadata": {},
   "outputs": [],
   "source": [
    "10)We have 100 tickets in the hat numbered from 1 to 100. With what probability will we pull out a number that is divisible by two or by five ?"
   ]
  },
  {
   "cell_type": "code",
   "execution_count": null,
   "id": "bab2427c",
   "metadata": {},
   "outputs": [],
   "source": [
    "To calculate the probability of pulling out a number that is divisible by 2 or 5 from 100 tickets numbered from 1 to 100, we can use the following formula:\n",
    "\n",
    "Numbers divisible by 2, All even numbers from 2 to 100 = 50 numbers \n",
    "\n",
    "Numbers divisible by 5 is 20 numbers\n",
    "\n",
    "However, there are also 10 numbers that are divisible by both two and five (i.e., the multiples of 10). \n",
    "\n",
    "Therefore, the total number of numbers between 1 and 100 that are divisible by two or by five is:\n",
    "                    50+20−10=60\n",
    "So, the probability of pulling out a number that is divisible by two or by five is:\n",
    "                    60/100=3/5=0.6\n",
    "Therefore, the probability of pulling out a number that is divisible by two or by five from the hat is 0.6 or 60%."
   ]
  },
  {
   "cell_type": "code",
   "execution_count": null,
   "id": "6093c82e",
   "metadata": {},
   "outputs": [],
   "source": [
    "11)There are 49 products in the box, from which only 6 are high quality. What is the probability of pulling out 6 random products from the box and having at least four of them high quality ?"
   ]
  },
  {
   "cell_type": "code",
   "execution_count": null,
   "id": "289a9787",
   "metadata": {},
   "outputs": [],
   "source": [
    "The probability of pulling out 6 random products from the box and having at least four of them high quality can be calculated using the hypergeometric distribution. The formula for the hypergeometric distribution is:\n",
    "P(X=k)=KCk (N-K)C(n-k)/NCn\n",
    "           \n",
    "The total probability of having at least 4 high-quality products is the sum of the probabilities from above equation:\n",
    "       \n",
    "       [P(at least 4 high-quality) = P(4 high-quality) + P(5 high-quality) + P(6 high-quality)]\n",
    "\n",
    "Finally, we calculate the complement (probability of not having at least 4 high-quality products): \n",
    "        \n",
    "        [P(not at least 4 high-quality) = 1 - P(at least 4 high-quality)]\n",
    "\n",
    "Now let’s compute the probabilities:\n",
    "\n",
    "(P(4 high-quality) = 0.0006)\n",
    "(P(5 high-quality) = 0.00003)\n",
    "(P(6 high-quality) = 0.0000002)\n",
    "Adding these probabilities: [P(at least 4 high-quality) = 0.0006 + 0.00003 + 0.0000002 = 0.0006332]\n",
    "\n",
    "Therefore, the probability of pulling out 6 random products from the box and having at least four of them high quality is approximately 0.0006 "
   ]
  },
  {
   "cell_type": "code",
   "execution_count": null,
   "id": "506e496c",
   "metadata": {},
   "outputs": [],
   "source": [
    "12)What is the probability of throwing two dice and getting the sum of the fallen numbers exactly 9 ?"
   ]
  },
  {
   "cell_type": "code",
   "execution_count": null,
   "id": "c56644bd",
   "metadata": {},
   "outputs": [],
   "source": [
    "Total number of possible outcomes when throwing two dice: There are 36 equally likely outcomes (since each die has 6 faces).\n",
    "\n",
    "Now, let’s find the favorable outcomes (i.e., the ways to get a sum of 9):\n",
    "\n",
    "The following combinations result in a sum of 9:\n",
    "(3, 6) or (6, 3)\n",
    "(4, 5) or (5, 4)\n",
    "There are 4 favorable outcomes.\n",
    "The probability of getting a sum of 9 is: [P(sum of 9) = (favorable outcomes)/(total outcomes) = {4}/{36} = {1}/{9} ]\n",
    "\n",
    "Therefore, the probability of throwing two dice and getting the sum of the fallen numbers exactly 9 is approximately 0.1111."
   ]
  },
  {
   "cell_type": "code",
   "execution_count": null,
   "id": "a7e73954",
   "metadata": {},
   "outputs": [],
   "source": [
    "13)What is the probability of throwing one dice and get :\n",
    "   a) the even number\n",
    "   b) the number divisible by three\n",
    "   c) the number less than six ?"
   ]
  },
  {
   "cell_type": "code",
   "execution_count": null,
   "id": "2c288d42",
   "metadata": {},
   "outputs": [],
   "source": [
    "a) Getting an even number:\n",
    "\n",
    "When a fair six-sided die is thrown, the possible outcomes are {1, 2, 3, 4, 5, 6}.\n",
    "The favorable outcomes for getting an even number are {2, 4, 6}.\n",
    "The total number of outcomes is 6.\n",
    "Therefore, the probability of getting an even number is: \n",
    " \n",
    " [P(even number) = (number of favorable outcomes)/(total number of outcomes) = {3}/{6} = {1}/{2}]\n",
    "\n",
    "b)Getting a number divisible by three:\n",
    "\n",
    "The favorable outcomes for getting a number divisible by 3 are {3, 6}.\n",
    "Therefore, the probability of getting a number divisible by 3 is: \n",
    "\n",
    "[P(divisible by 3) = (number of favorable outcomes)/(total number of outcomes) = {2}/{6} = {1}/{3}]\n",
    "\n",
    "c)Getting a number less than six:\n",
    "\n",
    "All outcomes except 6 are less than 6.\n",
    "The favorable outcomes for getting a number less than 6 are {1, 2, 3, 4, 5}.\n",
    "Therefore, the probability of getting a number less than 6 is: [ P(less than 6) = {5}/{6}]"
   ]
  },
  {
   "cell_type": "code",
   "execution_count": null,
   "id": "3e3e0d7a",
   "metadata": {},
   "outputs": [],
   "source": [
    "14)There are 60 chemical flasks in the laboratory, 6 of which are incorrectly labeled. What is the chance that if we randomly choose 5 flasks, exactly 3 of them will be labeled correctly ?"
   ]
  },
  {
   "cell_type": "code",
   "execution_count": null,
   "id": "34a8fd4e",
   "metadata": {},
   "outputs": [],
   "source": [
    "P(X = r) = nCr p^r (1 - p)^(n - r)\n",
    "         = 5C3 (54/60)^3 (6/60 )^2\n",
    "         = 10 x 0.729 x 0.01 = 0.0729\n",
    "Or\n",
    "By Binomial Distribution:\n",
    "  n=60 and p=54/60=0.9\n",
    "  P(X=3)=5C3(0.9)^3(0.1)^2\n",
    "        =0.0729"
   ]
  },
  {
   "cell_type": "code",
   "execution_count": null,
   "id": "bdeff8fe",
   "metadata": {},
   "outputs": [],
   "source": [
    "15)What is the probability that if we choose a trinity from 19 boys and 12 girls, we will have :\n",
    "a) three boys\n",
    "b) three girls\n",
    "c) two boys and one girl ?"
   ]
  },
  {
   "cell_type": "code",
   "execution_count": null,
   "id": "4ba8ce3d",
   "metadata": {},
   "outputs": [],
   "source": [
    "Here probability that we choose a trinity from 19(boys)+12(girls)\n",
    "S=19boys and 12 girls\n",
    "n(S)=31\n",
    " \n",
    "    31C3=4495\n",
    "\n",
    "a) The probability of choosing 3 boys out of 19 boys is given by the combination formula:\n",
    "\n",
    "    19C3=969\n",
    "    \n",
    "    Therefore, the probability of choosing a trinity where there are three boys is:\n",
    "    969/4495=0.216\n",
    "    \n",
    "b)The probability of choosing 3 girls out of 12 girls is given by the combination formula:\n",
    "   \n",
    "    12C3=220\n",
    "    \n",
    "    Therefore, the probability of choosing a trinity where there are three girls is:\n",
    "\n",
    "    220 / 4495 ≈ 0.049\n",
    "\n",
    "c) The probability of choosing two boys and one girl is given by the combination formula:\n",
    "\n",
    "    C(19,2) * C(12,1) = (19! / (2! * (19-2)!)) * (12! / (1! * (12-1)!)) = 3876\n",
    "\n",
    "Therefore,the probability of choosing a trinity where there are two boys and one girl is:\n",
    "\n",
    "3876 / 4495 ≈ 0.862\n",
    "\n",
    "So the chance that if we choose a trinity from 19 boys and 12 girls, we will have: a) three boys is approximately 21.6%. b) three girls is approximately 4.9%. c) two boys and one girl is approximately 86.2%"
   ]
  },
  {
   "cell_type": "code",
   "execution_count": null,
   "id": "f9d47b18",
   "metadata": {},
   "outputs": [],
   "source": [
    "16)There are 30 products in the box, from which 3 are faulty. Find the probability of pulling out 5 random products from the box and having among them at most two the faulty ones."
   ]
  },
  {
   "cell_type": "code",
   "execution_count": null,
   "id": "79c74f8b",
   "metadata": {},
   "outputs": [],
   "source": [
    "P(X>=2)=1-[P(X=3)]\n",
    "       =1-(27C2*3C3)/30C5\n",
    "       =1-(351*1)/142506\n",
    "       =1-0.002463\n",
    "       =0.9975\n",
    "        \n",
    "Or\n",
    "27C3*3C2+27C4*3C1+27C5*3C0/30C5=0.9975"
   ]
  },
  {
   "cell_type": "code",
   "execution_count": null,
   "id": "76feac9d",
   "metadata": {},
   "outputs": [],
   "source": [
    "17)Johnny wrote a random natural number from 1 to 20. Determine the probability that he wrote a prime number."
   ]
  },
  {
   "cell_type": "code",
   "execution_count": null,
   "id": "48248947",
   "metadata": {},
   "outputs": [],
   "source": [
    "Prime Numbers from 1 to 20: The prime numbers between 1 and 20 are: 2, 3, 5, 7, 11, 13, 17, and 1912.\n",
    "\n",
    "Total Number of Cases: Johnny can choose any natural number from 1 to 20. Therefore, the total number of cases is 20.\n",
    "\n",
    "Favorable Cases (Prime Numbers): There are 8 prime numbers in the given range.\n",
    "\n",
    "Probability of Choosing a Prime Number: The probability of Johnny writing a prime number is given by: \n",
    " \n",
    "   [P(prime number) = (Favorable cases)/(Total cases) = 8/20 = 2/5]\n",
    "\n",
    "Therefore, the probability that Johnny wrote a prime number is 2/5 or 0.434."
   ]
  },
  {
   "cell_type": "code",
   "execution_count": null,
   "id": "af5f0fdb",
   "metadata": {},
   "outputs": [],
   "source": [
    "18)Suzie has available the digits 0, 2, 3, 4, 5, 6, 7. What is the probability that when she creates a random three-digit number from the given digits, it will be the number 445 ?"
   ]
  },
  {
   "cell_type": "code",
   "execution_count": null,
   "id": "5d76fb6c",
   "metadata": {},
   "outputs": [],
   "source": [
    "Total Number of Cases: Suzie can choose any digit from the given set to form a three-digit number. \n",
    "\n",
    "Therefore, the total number of cases is 7 × 7 × 7 = 343.\n",
    "\n",
    "Favorable Case (Number 445): Suzie needs to arrange the digits 4, 4, and 5 to form the number 445. \n",
    "\n",
    "Since repetition is allowed, there are 3! = 6 ways to arrange these digits.\n",
    "\n",
    "The probability of Suzie creating the number 445 is given by: \n",
    "\n",
    "   [P(445) = (Favorable cases)/(Total cases) = 6/343 ]\n",
    "\n",
    "Therefore, the probability that Suzie creates the number 445 is approximately 0.0175 or 1.75%12."
   ]
  },
  {
   "cell_type": "code",
   "execution_count": null,
   "id": "08513548",
   "metadata": {},
   "outputs": [],
   "source": [
    "19)Out of 100 pairs of shoes 5 pairs are of poor quality. The auditor selects randomly four pairs of the shoes. What is the probability that at least one from the selected pairs is of poor quality ?"
   ]
  },
  {
   "cell_type": "code",
   "execution_count": null,
   "id": "ce06f712",
   "metadata": {},
   "outputs": [],
   "source": [
    "The probability of selecting at least one pair of poor quality shoes out of four pairs selected randomly from 100 pairs of shoes with 5 pairs of poor quality can be calculated as follows:\n",
    "\n",
    "The total number of ways to select 4 pairs out of 100 is given by the combination formula, which is:\n",
    "\n",
    "C(100,4) = 100! / (4! * (100-4)!) = 3,921,225\n",
    "\n",
    "The number of ways to select no poor quality pairs is given by:\n",
    "\n",
    "C(95,4) = 95! / (4! * (95-4)!) = 81,024,540\n",
    "\n",
    "Therefore, the probability of selecting at least one pair of poor quality shoes is:\n",
    "\n",
    "1 - 81,024,540 / 3,921,225 ≈ 0.99998\n",
    "\n",
    "So the chance that at least one from the selected pairs is of poor quality is approximately 99.998%."
   ]
  },
  {
   "cell_type": "code",
   "execution_count": null,
   "id": "c8b12836",
   "metadata": {},
   "outputs": [],
   "source": [
    "20)In the lottery 5 numbers are drawn from among 35. For 3 correctly guessed numbers lottery pays the third prize. What is the probability of winning the third prize, if we submit just one ticket with 5 guessed numbers ?"
   ]
  },
  {
   "cell_type": "code",
   "execution_count": null,
   "id": "177b18a0",
   "metadata": {},
   "outputs": [],
   "source": [
    "The probability of winning the third prize in the lottery where 5 numbers are drawn from among 35 and for 3 correctly guessed numbers lottery pays the third prize can be calculated as follows:\n",
    "\n",
    "The total number of ways to choose 5 numbers out of 35 is given by the combination formula, which is:\n",
    "\n",
    "C(35,5) = 35! / (5! * (35-5)!) = 324,632\n",
    "\n",
    "The number of ways to choose exactly 3 correctly guessed numbers out of 5 is given by:\n",
    "\n",
    "C(5,3) = 10\n",
    "\n",
    "The number of ways to choose exactly 2 incorrectly guessed numbers out of 30 is given by:\n",
    "\n",
    "C(30,2) = 435\n",
    "\n",
    "Therefore, the probability of winning the third prize with one ticket with 5 guessed numbers is:\n",
    "\n",
    "(10 * 435) / 324,632 ≈ 0.013\n",
    "\n",
    "So the chance of winning the third prize with one ticket with 5 guessed numbers is approximately 1.3%."
   ]
  },
  {
   "cell_type": "code",
   "execution_count": null,
   "id": "171429d4",
   "metadata": {},
   "outputs": [],
   "source": [
    "21)In the mall they have 100 TV sets, of which 85 are of the first and 15 are of the second quality. The first ten customers received the TV set of the first quality. What is the probability that the eleventh customer will buy the TV set of the second quality ?"
   ]
  },
  {
   "cell_type": "code",
   "execution_count": null,
   "id": "c2e55e8d",
   "metadata": {},
   "outputs": [],
   "source": [
    "The probability of the eleventh customer buying the TV set of the second quality can be calculated as follows:\n",
    "\n",
    "The total number of TV sets remaining in the mall after the first ten customers bought the TV set of the first quality is 100 - 10 = 90.\n",
    "\n",
    "The number of TV sets of the second quality remaining in the mall is 15.\n",
    "\n",
    "Therefore, the probability that the eleventh customer will buy the TV set of the second quality is:\n",
    "\n",
    "15 / 90 = 1 / 6\n",
    "\n",
    "So the chance that the eleventh customer will buy the TV set of the second quality is approximately 16.67% or 1/6."
   ]
  }
 ],
 "metadata": {
  "kernelspec": {
   "display_name": "Python 3 (ipykernel)",
   "language": "python",
   "name": "python3"
  },
  "language_info": {
   "codemirror_mode": {
    "name": "ipython",
    "version": 3
   },
   "file_extension": ".py",
   "mimetype": "text/x-python",
   "name": "python",
   "nbconvert_exporter": "python",
   "pygments_lexer": "ipython3",
   "version": "3.11.4"
  }
 },
 "nbformat": 4,
 "nbformat_minor": 5
}
