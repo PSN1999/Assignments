{
 "cells": [
  {
   "cell_type": "markdown",
   "id": "633a0d47",
   "metadata": {},
   "source": [
    "# Assignment On Python"
   ]
  },
  {
   "cell_type": "code",
   "execution_count": null,
   "id": "21912bbd",
   "metadata": {},
   "outputs": [],
   "source": [
    "# 1. WAP AREA OF RECTANGLE"
   ]
  },
  {
   "cell_type": "code",
   "execution_count": 1,
   "id": "5dbaf273",
   "metadata": {},
   "outputs": [
    {
     "name": "stdout",
     "output_type": "stream",
     "text": [
      "length in cm50\n",
      "breadth in cm20\n",
      "Your rectangle area is: 1000 cm^2\n"
     ]
    }
   ],
   "source": [
    "l = int(input(\"length in cm\"))\n",
    "b = int(input(\"breadth in cm\"))\n",
    "a = l*b\n",
    "print(\"Your rectangle area is:\",a,\"cm^2\")"
   ]
  },
  {
   "cell_type": "code",
   "execution_count": null,
   "id": "cd5ff6e6",
   "metadata": {},
   "outputs": [],
   "source": [
    "# 2. WAP AREA OF CIRCLE -->"
   ]
  },
  {
   "cell_type": "code",
   "execution_count": 2,
   "id": "24199501",
   "metadata": {},
   "outputs": [
    {
     "name": "stdout",
     "output_type": "stream",
     "text": [
      "enter your radius50\n",
      "your area is: 7850.0\n"
     ]
    }
   ],
   "source": [
    "r = int(input(\"enter your radius\"))\n",
    "a = 3.14*(r*r)\n",
    "print(\"your area is:\",a)"
   ]
  },
  {
   "cell_type": "code",
   "execution_count": null,
   "id": "0fa65e4f",
   "metadata": {},
   "outputs": [],
   "source": [
    "# 3. WAP AREA OF CUBOID"
   ]
  },
  {
   "cell_type": "code",
   "execution_count": 3,
   "id": "7f513ab2",
   "metadata": {},
   "outputs": [
    {
     "name": "stdout",
     "output_type": "stream",
     "text": [
      "enter length10\n",
      "enter breadth20\n",
      "enter height10\n",
      "the area is: 1000\n"
     ]
    }
   ],
   "source": [
    "l = int(input(\"enter length\"))\n",
    "b = int(input(\"enter breadth\"))\n",
    "h = int(input(\"enter height\"))\n",
    "a = 2*(l*b+b*h+h*l)\n",
    "print(\"the area is:\",a)"
   ]
  },
  {
   "cell_type": "code",
   "execution_count": null,
   "id": "7ee7af8a",
   "metadata": {},
   "outputs": [],
   "source": [
    "# 4. WAP AREA OF CUBE"
   ]
  },
  {
   "cell_type": "code",
   "execution_count": 4,
   "id": "526cdc73",
   "metadata": {},
   "outputs": [
    {
     "name": "stdout",
     "output_type": "stream",
     "text": [
      "enter length of cube5\n",
      "the area of cube is: 150\n"
     ]
    }
   ],
   "source": [
    "a = int(input(\"enter length of cube\"))\n",
    "x = 6*(a*a)\n",
    "print(\"the area of cube is:\",x)"
   ]
  },
  {
   "cell_type": "code",
   "execution_count": null,
   "id": "78dd087b",
   "metadata": {},
   "outputs": [],
   "source": [
    "# 5. WAP AREA OF CSA OF CYLINDER"
   ]
  },
  {
   "cell_type": "code",
   "execution_count": 5,
   "id": "a486d903",
   "metadata": {},
   "outputs": [
    {
     "name": "stdout",
     "output_type": "stream",
     "text": [
      "enter radius5\n",
      "enter height23\n",
      "your c.s.a is: 722.2\n"
     ]
    }
   ],
   "source": [
    "r = int(input(\"enter radius\"))\n",
    "h = int(input(\"enter height\"))\n",
    "a = 2*(3.14*(r*h))\n",
    "print(\"your c.s.a is:\",a)"
   ]
  },
  {
   "cell_type": "code",
   "execution_count": null,
   "id": "dae3df8f",
   "metadata": {},
   "outputs": [],
   "source": [
    "# 6. WAP AREA OF TSA OF CYLINDER"
   ]
  },
  {
   "cell_type": "code",
   "execution_count": 6,
   "id": "4ee025fb",
   "metadata": {},
   "outputs": [
    {
     "name": "stdout",
     "output_type": "stream",
     "text": [
      "enter radius5\n",
      "enter height6\n",
      "area is: 345.40000000000003\n"
     ]
    }
   ],
   "source": [
    "r = int(input(\"enter radius\"))\n",
    "h = int(input(\"enter height\"))\n",
    "a = 2*3.14*r*(r+h)\n",
    "print(\"area is:\",a)"
   ]
  },
  {
   "cell_type": "code",
   "execution_count": null,
   "id": "e2d79ba5",
   "metadata": {},
   "outputs": [],
   "source": [
    "# 7. WAP AREA OF CSA OF CONE"
   ]
  },
  {
   "cell_type": "code",
   "execution_count": 7,
   "id": "951c4b39",
   "metadata": {},
   "outputs": [
    {
     "name": "stdout",
     "output_type": "stream",
     "text": [
      "enter radius5\n",
      "enter length5\n",
      "csa is: 78.5\n"
     ]
    }
   ],
   "source": [
    "r = int(input(\"enter radius\"))\n",
    "l = int(input(\"enter length\"))\n",
    "a = 3.14*r*l\n",
    "print(\"csa is:\",a)"
   ]
  },
  {
   "cell_type": "code",
   "execution_count": null,
   "id": "5ab0fd37",
   "metadata": {},
   "outputs": [],
   "source": [
    "# 8. WAP AREA OF TSA OF RIGHT CIRCULAR CONE"
   ]
  },
  {
   "cell_type": "code",
   "execution_count": 8,
   "id": "3f8069f6",
   "metadata": {},
   "outputs": [
    {
     "name": "stdout",
     "output_type": "stream",
     "text": [
      "enter radius5\n",
      "enter slant height3\n",
      "the tsa is: 125.60000000000001\n"
     ]
    }
   ],
   "source": [
    "r = int(input(\"enter radius\"))\n",
    "l = int(input(\"enter slant height\"))\n",
    "a = 3.14*r*(l+r)\n",
    "print(\"the tsa is:\",a)"
   ]
  },
  {
   "cell_type": "code",
   "execution_count": null,
   "id": "1e197404",
   "metadata": {},
   "outputs": [],
   "source": [
    "# 9. WAP TSA OF SPHERE"
   ]
  },
  {
   "cell_type": "code",
   "execution_count": 9,
   "id": "01c0216c",
   "metadata": {},
   "outputs": [
    {
     "name": "stdout",
     "output_type": "stream",
     "text": [
      "enter radius5\n",
      "tsa of sphere is: 314.0\n"
     ]
    }
   ],
   "source": [
    "r = int(input(\"enter radius\"))\n",
    "a = 4*(3.14*(r*r))\n",
    "print(\"tsa of sphere is:\",a)"
   ]
  },
  {
   "cell_type": "code",
   "execution_count": null,
   "id": "2074553e",
   "metadata": {},
   "outputs": [],
   "source": [
    "# 10. WAP VOLUME OF CUBOID"
   ]
  },
  {
   "cell_type": "code",
   "execution_count": 10,
   "id": "bcf1868d",
   "metadata": {},
   "outputs": [
    {
     "name": "stdout",
     "output_type": "stream",
     "text": [
      "enter length5\n",
      "enter breadth6\n",
      "enter height2\n",
      "volume of cuboid is: 60\n"
     ]
    }
   ],
   "source": [
    "l = int(input(\"enter length\"))\n",
    "b = int(input(\"enter breadth\"))\n",
    "h = int(input(\"enter height\"))\n",
    "a = l*b*h\n",
    "print(\"volume of cuboid is:\",a)"
   ]
  },
  {
   "cell_type": "code",
   "execution_count": null,
   "id": "32fc5a00",
   "metadata": {},
   "outputs": [],
   "source": [
    "# 11. WAP VOLUME OF CUBE"
   ]
  },
  {
   "cell_type": "code",
   "execution_count": 11,
   "id": "e402f1e1",
   "metadata": {},
   "outputs": [
    {
     "name": "stdout",
     "output_type": "stream",
     "text": [
      "enter length5\n",
      "volume of cube is: 125\n"
     ]
    }
   ],
   "source": [
    "l = int(input(\"enter length\"))\n",
    "a = l*l*l\n",
    "print(\"volume of cube is:\",a)"
   ]
  },
  {
   "cell_type": "code",
   "execution_count": null,
   "id": "132047d4",
   "metadata": {},
   "outputs": [],
   "source": [
    "# 12. WAP VOLUME OF CYLINDER"
   ]
  },
  {
   "cell_type": "code",
   "execution_count": 12,
   "id": "2e6e8d1a",
   "metadata": {},
   "outputs": [
    {
     "name": "stdout",
     "output_type": "stream",
     "text": [
      "enter radius2\n",
      "enter height9\n",
      "volume is: 113.04\n"
     ]
    }
   ],
   "source": [
    "r = int(input(\"enter radius\"))\n",
    "h = int(input(\"enter height\"))\n",
    "v = 3.14*(r*r)*h\n",
    "print(\"volume is:\",v)"
   ]
  },
  {
   "cell_type": "code",
   "execution_count": null,
   "id": "b31fa7e7",
   "metadata": {},
   "outputs": [],
   "source": [
    "# 13. WAP VOLUME OF CONE"
   ]
  },
  {
   "cell_type": "code",
   "execution_count": 13,
   "id": "f32679d6",
   "metadata": {},
   "outputs": [
    {
     "name": "stdout",
     "output_type": "stream",
     "text": [
      "enter radius5\n",
      "enter height3\n",
      "volume is: 78.5\n"
     ]
    }
   ],
   "source": [
    "r = int(input(\"enter radius\"))\n",
    "h = int(input(\"enter height\"))\n",
    "v = 1/3*(3.14*(r*r)*h)\n",
    "print(\"volume is:\",v)"
   ]
  },
  {
   "cell_type": "code",
   "execution_count": null,
   "id": "230fe4a7",
   "metadata": {},
   "outputs": [],
   "source": [
    "# 14. WAP VOLUME OF SPHERE"
   ]
  },
  {
   "cell_type": "code",
   "execution_count": 14,
   "id": "69b4b92d",
   "metadata": {},
   "outputs": [
    {
     "name": "stdout",
     "output_type": "stream",
     "text": [
      "enter radius2\n",
      "volume is: 33.49333333333333\n"
     ]
    }
   ],
   "source": [
    "r = int(input(\"enter radius\"))\n",
    "v = 4/3*(3.14*(r*r*r))\n",
    "print(\"volume is:\",v)"
   ]
  },
  {
   "cell_type": "code",
   "execution_count": null,
   "id": "3614c39a",
   "metadata": {},
   "outputs": [],
   "source": [
    "# 15. WAP PERIMETER OF RECTANGLE"
   ]
  },
  {
   "cell_type": "code",
   "execution_count": 15,
   "id": "ad6034bb",
   "metadata": {},
   "outputs": [
    {
     "name": "stdout",
     "output_type": "stream",
     "text": [
      "enter length in cm26\n",
      "enter breadth in cm12\n",
      "perimeter of rectangle is: 76 cm\n"
     ]
    }
   ],
   "source": [
    "l = int(input(\"enter length in cm\"))\n",
    "b = int(input(\"enter breadth in cm\"))\n",
    "a = 2*(l+b)\n",
    "print(\"perimeter of rectangle is:\",a,\"cm\")"
   ]
  },
  {
   "cell_type": "code",
   "execution_count": null,
   "id": "28405542",
   "metadata": {},
   "outputs": [],
   "source": [
    "# 16. WAP AREA OF SQUARE"
   ]
  },
  {
   "cell_type": "code",
   "execution_count": 16,
   "id": "264887ba",
   "metadata": {},
   "outputs": [
    {
     "name": "stdout",
     "output_type": "stream",
     "text": [
      "enter length in cm2\n",
      "your area of square is: 4 cm^2\n"
     ]
    }
   ],
   "source": [
    "A = int(input(\"enter length in cm\"))\n",
    "x = A*A\n",
    "print(\"your area of square is:\",x,\"cm^2\")"
   ]
  },
  {
   "cell_type": "code",
   "execution_count": null,
   "id": "73a940ba",
   "metadata": {},
   "outputs": [],
   "source": [
    "# 17. WAP AREA OF TRIANGLE"
   ]
  },
  {
   "cell_type": "code",
   "execution_count": 17,
   "id": "9bbd4299",
   "metadata": {},
   "outputs": [
    {
     "name": "stdout",
     "output_type": "stream",
     "text": [
      "enter height4\n",
      "enter base5\n",
      "your area is: 10.0 cm^2\n"
     ]
    }
   ],
   "source": [
    "h = int(input(\"enter height\"))\n",
    "b = int(input(\"enter base\"))\n",
    "a = 1/2*(b*h)\n",
    "print(\"your area is:\",a,\"cm^2\")"
   ]
  },
  {
   "cell_type": "code",
   "execution_count": null,
   "id": "08d62d57",
   "metadata": {},
   "outputs": [],
   "source": [
    "# 18. WAP GREATEST NO. IN THREE NO."
   ]
  },
  {
   "cell_type": "code",
   "execution_count": 18,
   "id": "8604f1cd",
   "metadata": {},
   "outputs": [
    {
     "name": "stdout",
     "output_type": "stream",
     "text": [
      "enter first no5\n",
      "enter second no6\n",
      "enter third no7\n",
      "the greatest no is: 7\n"
     ]
    }
   ],
   "source": [
    "a = int(input(\"enter first no\"))\n",
    "b= int(input(\"enter second no\"))\n",
    "c= int(input(\"enter third no\"))\n",
    "if a>b:\n",
    "    if a>c:\n",
    "        print(\"the greatest no is:\",a)\n",
    "    else:\n",
    "        print(\"the greatest no is:\",c)\n",
    "else:\n",
    "    if b>c:\n",
    "        print(\"the greatest no is\",b)\n",
    "    else:\n",
    "        print(\"the greatest no is:\",c)"
   ]
  },
  {
   "cell_type": "code",
   "execution_count": null,
   "id": "7b3febc5",
   "metadata": {},
   "outputs": [],
   "source": [
    "# 19. WAP PERIMETER OF TRIANGLE"
   ]
  },
  {
   "cell_type": "code",
   "execution_count": 19,
   "id": "cdccdf90",
   "metadata": {},
   "outputs": [
    {
     "name": "stdout",
     "output_type": "stream",
     "text": [
      "enter first side of triangle2\n",
      "enter second side of triangle3\n",
      "enter third side of triangle3\n",
      "the perimeter is: 8\n"
     ]
    }
   ],
   "source": [
    "a = int(input(\"enter first side of triangle\"))\n",
    "b = int(input(\"enter second side of triangle\"))\n",
    "c = int(input(\"enter third side of triangle\"))\n",
    "perimeter = a+b+c\n",
    "print(\"the perimeter is:\",perimeter)"
   ]
  },
  {
   "cell_type": "code",
   "execution_count": null,
   "id": "246633a1",
   "metadata": {},
   "outputs": [],
   "source": [
    "# 20. WAP GREATEST NO. IN FOUR NO."
   ]
  },
  {
   "cell_type": "code",
   "execution_count": 20,
   "id": "b646fca3",
   "metadata": {},
   "outputs": [
    {
     "name": "stdout",
     "output_type": "stream",
     "text": [
      "enter first no55\n",
      "enter second no66\n",
      "enter third no33\n",
      "enter fourth no55\n",
      "the greatest no is: 66.0\n"
     ]
    }
   ],
   "source": [
    "a = float(input(\"enter first no\"))\n",
    "b= float(input(\"enter second no\"))\n",
    "c= float(input(\"enter third no\"))\n",
    "d = float(input(\"enter fourth no\"))\n",
    "if (a>b and a>c and a>d):\n",
    "    print(\"the greatest no is:\",a)\n",
    "elif (b>c and b>d):\n",
    "    print(\"the greatest no is:\",b)\n",
    "elif (c>d):\n",
    "    print(\"the greatest no is\",c)\n",
    "elif (d>c):\n",
    "    print(\"the greatest no is:\",d)\n",
    "else :\n",
    "    print(\"Either any two values or all the four values are equal\")"
   ]
  },
  {
   "cell_type": "code",
   "execution_count": null,
   "id": "815bba62",
   "metadata": {},
   "outputs": [],
   "source": [
    "# 21. WAP TO CHECK DIVISION IN RESULT"
   ]
  },
  {
   "cell_type": "code",
   "execution_count": 21,
   "id": "01d05fcb",
   "metadata": {},
   "outputs": [
    {
     "name": "stdout",
     "output_type": "stream",
     "text": [
      "enter marks out of 300251\n",
      "percentage is: 83.66666666666667 %\n",
      "your division is first\n"
     ]
    }
   ],
   "source": [
    "a = eval(input(\"enter marks out of 300\"))\n",
    "b= a/300*100\n",
    "print(\"percentage is:\",b,\"%\")\n",
    "if (a>300):\n",
    "    print(\"you entered a wrong marks\")\n",
    "elif (b>60):\n",
    "    print(\"your division is first\")\n",
    "elif (b>50 and b<53):\n",
    "    print(\"your division is second\")\n",
    "elif (b>33 and b<50):\n",
    "    print(\"your division is third\")\n",
    "else :\n",
    "    print(\"fail\")"
   ]
  },
  {
   "cell_type": "code",
   "execution_count": null,
   "id": "a6f0e3cd",
   "metadata": {},
   "outputs": [],
   "source": [
    "# 22. WAP TO CHECK AGE CRITERIA"
   ]
  },
  {
   "cell_type": "code",
   "execution_count": 22,
   "id": "13c18324",
   "metadata": {},
   "outputs": [
    {
     "name": "stdout",
     "output_type": "stream",
     "text": [
      "enter your age17\n",
      "teenager\n"
     ]
    }
   ],
   "source": [
    "y = int(input(\"enter your age\"))\n",
    "if (y>0 and y<12):\n",
    "    print(\"kid\")\n",
    "elif (y>12 and y<19):\n",
    "    print(\"teenager\")\n",
    "elif (y>19 and y<30):\n",
    "    print(\"young\")\n",
    "elif (y>30 and y<45):\n",
    "    print(\"mature\")\n",
    "elif (y>45 and y<60):\n",
    "    print(\"experienced\")\n",
    "elif (y>60 and y<75):\n",
    "    print(\"old\")\n",
    "elif (y>75):\n",
    "    print(\"senior citizen\")"
   ]
  },
  {
   "cell_type": "code",
   "execution_count": null,
   "id": "dfa9d568",
   "metadata": {},
   "outputs": [],
   "source": [
    "# 23. WAP SUM OF Nth NO."
   ]
  },
  {
   "cell_type": "code",
   "execution_count": 23,
   "id": "8c35b1d9",
   "metadata": {},
   "outputs": [
    {
     "name": "stdout",
     "output_type": "stream",
     "text": [
      "enter limit5\n",
      "the sum is 10\n"
     ]
    }
   ],
   "source": [
    "n = int(input(\"enter limit\"))\n",
    "s = 0\n",
    "for c in range(1,n):\n",
    "    s = c+s\n",
    "print(\"the sum is\",s)"
   ]
  },
  {
   "cell_type": "code",
   "execution_count": null,
   "id": "6cbc5680",
   "metadata": {},
   "outputs": [],
   "source": [
    "# 24. WAP TO CHECK THE VALUE OF FACTORIAL"
   ]
  },
  {
   "cell_type": "code",
   "execution_count": 24,
   "id": "24a7e0ea",
   "metadata": {},
   "outputs": [
    {
     "name": "stdout",
     "output_type": "stream",
     "text": [
      "enter a number10\n",
      "the factorial of 10 is 3628800\n"
     ]
    }
   ],
   "source": [
    "a = int(input(\"enter a number\"))\n",
    "factorial = 1\n",
    "if a<0:\n",
    "    print(\"sorry,factorial does not exist for negative number\")\n",
    "elif a==0:\n",
    "    print(\"the factorial of 0 is 1\")\n",
    "else:\n",
    "    for i in range(1,a+1):\n",
    "        factorial = factorial*i\n",
    "    print(\"the factorial of\",a,\"is\",factorial)"
   ]
  },
  {
   "cell_type": "code",
   "execution_count": null,
   "id": "aecb2b91",
   "metadata": {},
   "outputs": [],
   "source": [
    "# 25. WAP TO PRINT MULTIPLICATION TABLE"
   ]
  },
  {
   "cell_type": "code",
   "execution_count": 1,
   "id": "e242470b",
   "metadata": {},
   "outputs": [
    {
     "name": "stdout",
     "output_type": "stream",
     "text": [
      "show the multiplication table of?18\n",
      "18 X 1 = 18\n",
      "18 X 2 = 36\n",
      "18 X 3 = 54\n",
      "18 X 4 = 72\n",
      "18 X 5 = 90\n",
      "18 X 6 = 108\n",
      "18 X 7 = 126\n",
      "18 X 8 = 144\n",
      "18 X 9 = 162\n",
      "18 X 10 = 180\n"
     ]
    }
   ],
   "source": [
    "a = int(input(\"show the multiplication table of?\"))\n",
    "for i in range(1,11):\n",
    "    print(a,\"X\",i,\"=\",a*i)"
   ]
  },
  {
   "cell_type": "code",
   "execution_count": null,
   "id": "5ed5bc13",
   "metadata": {},
   "outputs": [],
   "source": [
    "# 26. WAP TO PRINT OPPOSITE RIGHT ANGLE TRIANGLE"
   ]
  },
  {
   "cell_type": "code",
   "execution_count": 2,
   "id": "3120913d",
   "metadata": {},
   "outputs": [
    {
     "name": "stdout",
     "output_type": "stream",
     "text": [
      "enter the number of rows5\n",
      "*****\n",
      "****\n",
      "***\n",
      "**\n",
      "*\n"
     ]
    }
   ],
   "source": [
    "num = int(input(\"enter the number of rows\"))\n",
    "for i in range(num,0,-1):\n",
    "    for j in range(0,i):\n",
    "        print(\"*\",end=\"\")\n",
    "    print()"
   ]
  },
  {
   "cell_type": "code",
   "execution_count": null,
   "id": "2288ae79",
   "metadata": {},
   "outputs": [],
   "source": [
    "# 27. WAP TO PRINT 1,22,333,4444"
   ]
  },
  {
   "cell_type": "code",
   "execution_count": 4,
   "id": "812dab19",
   "metadata": {},
   "outputs": [
    {
     "name": "stdout",
     "output_type": "stream",
     "text": [
      "enter the no of rows:5\n",
      "1\n",
      "22\n",
      "333\n",
      "4444\n",
      "55555\n"
     ]
    }
   ],
   "source": [
    "n = int(input(\"enter the no of rows:\"))\n",
    "for i in range(1,n+1):\n",
    "    for j in range(1,i+1):\n",
    "        print(i,end=\"\")\n",
    "    print()"
   ]
  },
  {
   "cell_type": "code",
   "execution_count": null,
   "id": "f53f2dfc",
   "metadata": {},
   "outputs": [],
   "source": [
    "# 28. WAP TO PRINT STAR PATTERN OF OPPOSITE TRIANGLE"
   ]
  },
  {
   "cell_type": "code",
   "execution_count": 5,
   "id": "1e2d6089",
   "metadata": {},
   "outputs": [
    {
     "name": "stdout",
     "output_type": "stream",
     "text": [
      "enter the number of rows5\n",
      "     *\n",
      "    **\n",
      "   ***\n",
      "  ****\n",
      " *****\n"
     ]
    }
   ],
   "source": [
    "num = int(input(\"enter the number of rows\"))\n",
    "for i in range(0,num):\n",
    "    for j in range(0,num-i):\n",
    "        print(\" \",end=\"\")\n",
    "    for k in range(0,i+1):\n",
    "        print(\"*\",end=\"\")\n",
    "    print()"
   ]
  },
  {
   "cell_type": "code",
   "execution_count": null,
   "id": "c6b03bc4",
   "metadata": {},
   "outputs": [],
   "source": [
    "# 29. WAP TO PRINT PATTERN 1,12,123"
   ]
  },
  {
   "cell_type": "code",
   "execution_count": 6,
   "id": "0ea32db7",
   "metadata": {},
   "outputs": [
    {
     "name": "stdout",
     "output_type": "stream",
     "text": [
      "enter the no of rows:5\n",
      "1\n",
      "12\n",
      "123\n",
      "1234\n",
      "12345\n"
     ]
    }
   ],
   "source": [
    "n = int(input(\"enter the no of rows:\"))\n",
    "for i in range(1,n+1):\n",
    "    for j in range(1,i+1):\n",
    "        print(j,end=\"\")\n",
    "    print()"
   ]
  },
  {
   "cell_type": "code",
   "execution_count": null,
   "id": "5ff17444",
   "metadata": {},
   "outputs": [],
   "source": [
    "# 30. WAP TO PRINT FIBONACCI SERIES USE WHILE LOOP"
   ]
  },
  {
   "cell_type": "code",
   "execution_count": 7,
   "id": "a3f182b2",
   "metadata": {},
   "outputs": [
    {
     "name": "stdout",
     "output_type": "stream",
     "text": [
      "enter the range5\n",
      "0\n",
      "1\n",
      "1\n",
      "2\n",
      "3\n"
     ]
    }
   ],
   "source": [
    "a = eval(input(\"enter the range\"))\n",
    "i=0\n",
    "first_value = 0\n",
    "second_value = 1\n",
    "while(i<a):\n",
    "    if(i<=1):\n",
    "        Next = i\n",
    "    else:\n",
    "        Next = first_value + second_value\n",
    "        first_value = second_value\n",
    "        second_value = Next\n",
    "    print(Next)\n",
    "    i = i+1"
   ]
  },
  {
   "cell_type": "code",
   "execution_count": null,
   "id": "43516d1d",
   "metadata": {},
   "outputs": [],
   "source": [
    "# 31. WAP TO PRINT FIBONACCI SERIES USE FOR LOOP"
   ]
  },
  {
   "cell_type": "code",
   "execution_count": 8,
   "id": "d4ce0362",
   "metadata": {},
   "outputs": [
    {
     "name": "stdout",
     "output_type": "stream",
     "text": [
      "enter the range5\n",
      "0\n",
      "1\n",
      "1\n",
      "2\n",
      "3\n"
     ]
    }
   ],
   "source": [
    "number = int(input(\"enter the range\"))\n",
    "first_value = 0\n",
    "second_value = 1\n",
    "for num in range(0,number):\n",
    "    if(num<=1):\n",
    "        Next = num\n",
    "    else:\n",
    "        Next = first_value + second_value\n",
    "        first_value = second_value\n",
    "        second_value = Next\n",
    "    print(Next)"
   ]
  },
  {
   "cell_type": "code",
   "execution_count": null,
   "id": "66dd8c84",
   "metadata": {},
   "outputs": [],
   "source": [
    "# 32. WAP TO PRINT PATTERN A,AB,ABC"
   ]
  },
  {
   "cell_type": "code",
   "execution_count": 9,
   "id": "94efcbed",
   "metadata": {},
   "outputs": [
    {
     "name": "stdout",
     "output_type": "stream",
     "text": [
      "enter a characterE\n",
      "A\n",
      "AB\n",
      "ABC\n",
      "ABCD\n",
      "ABCDE\n"
     ]
    }
   ],
   "source": [
    "ch = str(input(\"enter a character\"))\n",
    "a = ord(ch)\n",
    "for x in range(65,a+1):\n",
    "    for c in range(65,x+1):\n",
    "        print(chr(c),end=\"\")\n",
    "    print(\"\")"
   ]
  },
  {
   "cell_type": "code",
   "execution_count": null,
   "id": "d6d377a8",
   "metadata": {},
   "outputs": [],
   "source": [
    "# 33. WAP TO CALCULATION OF Xn BY FOR LOOP"
   ]
  },
  {
   "cell_type": "code",
   "execution_count": 10,
   "id": "577be7f2",
   "metadata": {},
   "outputs": [
    {
     "name": "stdout",
     "output_type": "stream",
     "text": [
      "enter no5\n",
      "enter power2\n",
      "25\n"
     ]
    }
   ],
   "source": [
    "x = int(input(\"enter no\"))\n",
    "b = int(input(\"enter power\"))\n",
    "y=x\n",
    "for a in range(0,b-1):\n",
    "    y=x*y\n",
    "print(y)"
   ]
  },
  {
   "cell_type": "code",
   "execution_count": null,
   "id": "c9fa3fce",
   "metadata": {},
   "outputs": [],
   "source": [
    "# 34. WAP TO CALCULATION OF Xn"
   ]
  },
  {
   "cell_type": "code",
   "execution_count": 11,
   "id": "9eefabf2",
   "metadata": {},
   "outputs": [
    {
     "name": "stdout",
     "output_type": "stream",
     "text": [
      "enter number2\n",
      "enter power2\n",
      "4\n"
     ]
    }
   ],
   "source": [
    "a = int(input(\"enter number\"))\n",
    "b = int(input(\"enter power\"))\n",
    "c = a**b\n",
    "print(c)"
   ]
  },
  {
   "cell_type": "code",
   "execution_count": null,
   "id": "ce02699b",
   "metadata": {},
   "outputs": [],
   "source": [
    "# 35. WAP TO PRINT THE INTEGER IS PALINDROME OR NOT PALINDROME"
   ]
  },
  {
   "cell_type": "code",
   "execution_count": 12,
   "id": "a1336b20",
   "metadata": {},
   "outputs": [
    {
     "name": "stdout",
     "output_type": "stream",
     "text": [
      "enter number121\n",
      "the number is palindrome\n"
     ]
    }
   ],
   "source": [
    "n = int(input(\"enter number\"))\n",
    "x = n\n",
    "r = 0\n",
    "while n>0:\n",
    "    d = n%10\n",
    "    r = r*10+d\n",
    "    n = n//10\n",
    "if x==r:\n",
    "    print(\"the number is palindrome\")\n",
    "else:\n",
    "    print(\"the number is not palindrome\")"
   ]
  },
  {
   "cell_type": "code",
   "execution_count": null,
   "id": "f56da9bb",
   "metadata": {},
   "outputs": [],
   "source": [
    "# 36. WAP TO PRINT FACTORIAL OF LIST"
   ]
  },
  {
   "cell_type": "code",
   "execution_count": 13,
   "id": "a806f7a4",
   "metadata": {},
   "outputs": [
    {
     "name": "stdout",
     "output_type": "stream",
     "text": [
      "enter the element of list5\n",
      "do you want to enter more element:Y\n",
      "enter the element of list6\n",
      "do you want to enter more element:Y\n",
      "enter the element of list62\n",
      "do you want to enter more element:N\n",
      "the list is: [5, 6, 62]\n",
      "the factorial of each element is : [120, 720, 31469973260387937525653122354950764088012280797258232192163168247821107200000000000000]\n"
     ]
    }
   ],
   "source": [
    "a = []\n",
    "fact = []\n",
    "ch = \"Y\"\n",
    "while ch==\"Y\" or ch==\"Y\":\n",
    "    item = int(input(\"enter the element of list\"))\n",
    "    a.append(item)\n",
    "    ch = input(\"do you want to enter more element:\")\n",
    "print(\"the list is:\",a)\n",
    "for i in a:\n",
    "    f=1\n",
    "    for j in range(1,i+1):\n",
    "        f = f*j\n",
    "    fact.append(f)\n",
    "print(\"the factorial of each element is :\",fact)"
   ]
  },
  {
   "cell_type": "code",
   "execution_count": null,
   "id": "833b66a5",
   "metadata": {},
   "outputs": [],
   "source": [
    "# 37. WAP TO PRINT PASCAL TRIANGLE"
   ]
  },
  {
   "cell_type": "code",
   "execution_count": 14,
   "id": "82bb27ab",
   "metadata": {},
   "outputs": [
    {
     "name": "stdout",
     "output_type": "stream",
     "text": [
      "enter rows5\n",
      "    * \n",
      "   * * \n",
      "  * * * \n",
      " * * * * \n",
      "* * * * * \n"
     ]
    }
   ],
   "source": [
    "n = int(input(\"enter rows\"))\n",
    "for i in range(0,n):\n",
    "    for j in range(0,n-i-1):\n",
    "        print(end=\" \")\n",
    "    for j in range(0,i+1):\n",
    "        print(\"*\",end=\" \")\n",
    "    print()"
   ]
  },
  {
   "cell_type": "code",
   "execution_count": null,
   "id": "382d8ac7",
   "metadata": {},
   "outputs": [],
   "source": [
    "# 38. WAP TO CREATE A LIST OF VALUES INPUTTED BY USER"
   ]
  },
  {
   "cell_type": "code",
   "execution_count": 15,
   "id": "818e7c72",
   "metadata": {},
   "outputs": [
    {
     "name": "stdout",
     "output_type": "stream",
     "text": [
      "enter limit4\n",
      "enter element65\n",
      "enter element32\n",
      "enter element82\n",
      "enter element62\n",
      "[65, 32, 82, 62]\n"
     ]
    }
   ],
   "source": [
    "a = eval(input(\"enter limit\"))\n",
    "n = []\n",
    "for a in range(1,a+1):\n",
    "    a = eval(input(\"enter element\"))\n",
    "    n.append(a)\n",
    "print(n)"
   ]
  },
  {
   "cell_type": "code",
   "execution_count": null,
   "id": "0c8cd910",
   "metadata": {},
   "outputs": [],
   "source": [
    "# 39. WAP TO CREATE A LIST OF VALUES INPUTTED BY USER AND SORT IN INCREASING ORDER"
   ]
  },
  {
   "cell_type": "code",
   "execution_count": 17,
   "id": "54ac8ce4",
   "metadata": {},
   "outputs": [
    {
     "name": "stdout",
     "output_type": "stream",
     "text": [
      "enter limit4\n",
      "enter element25\n",
      "enter element63\n",
      "enter element52\n",
      "enter element41\n",
      "[25, 63, 52, 41]\n",
      "after sorting the list is\n",
      "[25, 41, 52, 63]\n"
     ]
    }
   ],
   "source": [
    "a = eval(input(\"enter limit\"))\n",
    "lst = []\n",
    "for a in range(1,a+1):\n",
    "    a = eval(input(\"enter element\"))\n",
    "    lst.append(a)\n",
    "print(lst)\n",
    "l = len(lst)\n",
    "for i in range(l):\n",
    "    for j in range(0,l-i-1):\n",
    "        if lst[j]>lst[j+1]:\n",
    "            temp = lst[j]\n",
    "            lst[j] = lst[j+1]\n",
    "            lst[j+1] = temp\n",
    "print(\"after sorting the list is\")\n",
    "print(lst)"
   ]
  },
  {
   "cell_type": "code",
   "execution_count": null,
   "id": "4bdc83c1",
   "metadata": {},
   "outputs": [],
   "source": [
    "# 40. SORTING IN ACCENDING ORDER USE BUBBLE SORT"
   ]
  },
  {
   "cell_type": "code",
   "execution_count": 18,
   "id": "0fab180f",
   "metadata": {},
   "outputs": [
    {
     "name": "stdout",
     "output_type": "stream",
     "text": [
      "enter limit4\n",
      "enter element6\n",
      "enter element2\n",
      "enter element3\n",
      "enter element4\n",
      "[6, 2, 3, 4]\n",
      "after sorting the list is\n",
      "[2, 3, 4, 6]\n"
     ]
    }
   ],
   "source": [
    "a = eval(input(\"enter limit\"))\n",
    "lst=[]\n",
    "for a in range(1,a+1):\n",
    "    a = eval(input(\"enter element\"))\n",
    "    lst.append(a)\n",
    "print(lst)\n",
    "l = len(lst)\n",
    "for i in range(l):\n",
    "    for j in range(0,l-i-1):\n",
    "        if lst[j]>lst[j+1]:\n",
    "            temp=lst[j]\n",
    "            lst[j]=lst[j+1]\n",
    "            lst[j+1]=temp\n",
    "print(\"after sorting the list is\")\n",
    "print(lst)"
   ]
  },
  {
   "cell_type": "code",
   "execution_count": null,
   "id": "50ef0609",
   "metadata": {},
   "outputs": [],
   "source": [
    "# 41. WAP IN PYTHON TO CREATE A PHONE DICTIONARY"
   ]
  },
  {
   "cell_type": "code",
   "execution_count": 21,
   "id": "3d9688e9",
   "metadata": {
    "scrolled": true
   },
   "outputs": [
    {
     "name": "stdout",
     "output_type": "stream",
     "text": [
      "enter limit2\n",
      "enter mobile number7376535332\n",
      "enter nameKESHWAM BAJPAI\n",
      "enter mobile number980790071\n",
      "enter nameACHYUTAM BAJPAI\n",
      "{7376535332: 'KESHWAM BAJPAI', 980790071: 'ACHYUTAM BAJPAI'}\n",
      "enter the no to search in dictionary980790071\n",
      "the name of person is ACHYUTAM BAJPAI\n"
     ]
    }
   ],
   "source": [
    "n = int(input(\"enter limit\"))\n",
    "m={}\n",
    "mob=0\n",
    "name=\"\"\n",
    "i=0\n",
    "for i in range(0,n):\n",
    "    mob=int(input(\"enter mobile number\"))\n",
    "    name=str(input(\"enter name\"))\n",
    "    z2=dict({mob:name})\n",
    "    m.update(z2)\n",
    "print(m)\n",
    "n = int(input(\"enter the no to search in dictionary\"))\n",
    "print(\"the name of person is\",m[n])"
   ]
  },
  {
   "cell_type": "code",
   "execution_count": null,
   "id": "5b8e771a",
   "metadata": {},
   "outputs": [],
   "source": [
    "# 42. WAP TO FIND GIVEN NUMBER IS PRIME OR NOT"
   ]
  },
  {
   "cell_type": "code",
   "execution_count": 22,
   "id": "54d017a7",
   "metadata": {},
   "outputs": [
    {
     "name": "stdout",
     "output_type": "stream",
     "text": [
      "enter number5\n",
      "5 is prime number\n"
     ]
    }
   ],
   "source": [
    "num = int(input(\"enter number\"))\n",
    "lim = int(num/2)+1\n",
    "for i in range(2,lim):\n",
    "    rem = num%i\n",
    "    if rem==0:\n",
    "        print(num,\"is not prime number\")\n",
    "        break\n",
    "else:\n",
    "    print(num,\"is prime number\")"
   ]
  },
  {
   "cell_type": "code",
   "execution_count": null,
   "id": "ffcc7702",
   "metadata": {},
   "outputs": [],
   "source": [
    "# 43. WAP TO FIND GIVEN NUMBER IS EVEN OR ODD"
   ]
  },
  {
   "cell_type": "code",
   "execution_count": 23,
   "id": "6bbbcad2",
   "metadata": {},
   "outputs": [
    {
     "name": "stdout",
     "output_type": "stream",
     "text": [
      "enter number6\n",
      "6 is even number\n"
     ]
    }
   ],
   "source": [
    "a = int(input(\"enter number\"))\n",
    "r = a%2\n",
    "if r==0:\n",
    "    print(a,\"is even number\")\n",
    "elif r>0:\n",
    "    print(a,\"is odd number\")\n",
    "else:\n",
    "    print(\"you enter a number 0 or less than 0\")"
   ]
  },
  {
   "cell_type": "code",
   "execution_count": null,
   "id": "68db9870",
   "metadata": {},
   "outputs": [],
   "source": [
    "# 44. WAP TO CREATE A TUPLE OF VALUES INPUTED BY USER"
   ]
  },
  {
   "cell_type": "code",
   "execution_count": 24,
   "id": "359e133a",
   "metadata": {},
   "outputs": [
    {
     "name": "stdout",
     "output_type": "stream",
     "text": [
      "enter limit5\n",
      "enter element52\n",
      "enter element63\n",
      "enter element953\n",
      "enter element25\n",
      "enter element125\n",
      "tuple is (52, 63, 953, 25, 125)\n"
     ]
    }
   ],
   "source": [
    "a = ()\n",
    "l = []\n",
    "n = int(input(\"enter limit\"))\n",
    "for i in range(0,n):\n",
    "    item = int(input(\"enter element\"))\n",
    "    l.append(item)\n",
    "a = a+tuple(l)\n",
    "print(\"tuple is\",a)"
   ]
  },
  {
   "cell_type": "code",
   "execution_count": null,
   "id": "c0b29a24",
   "metadata": {},
   "outputs": [],
   "source": [
    "# 45. WAP TO REVERSE AN INTEGER"
   ]
  },
  {
   "cell_type": "code",
   "execution_count": 26,
   "id": "ae3895c3",
   "metadata": {},
   "outputs": [
    {
     "name": "stdout",
     "output_type": "stream",
     "text": [
      "enter the integer52145666\n",
      "the reversed integer is: 66654125\n"
     ]
    }
   ],
   "source": [
    "n = int(input(\"enter the integer\"))\n",
    "x=n\n",
    "r=0\n",
    "while n>0:\n",
    "    d=n%10\n",
    "    r=r*10+d\n",
    "    n=n//10\n",
    "print(\"the reversed integer is:\",r)"
   ]
  },
  {
   "cell_type": "code",
   "execution_count": null,
   "id": "1ed4bfcd",
   "metadata": {},
   "outputs": [],
   "source": []
  }
 ],
 "metadata": {
  "kernelspec": {
   "display_name": "Python 3 (ipykernel)",
   "language": "python",
   "name": "python3"
  },
  "language_info": {
   "codemirror_mode": {
    "name": "ipython",
    "version": 3
   },
   "file_extension": ".py",
   "mimetype": "text/x-python",
   "name": "python",
   "nbconvert_exporter": "python",
   "pygments_lexer": "ipython3",
   "version": "3.11.4"
  }
 },
 "nbformat": 4,
 "nbformat_minor": 5
}
